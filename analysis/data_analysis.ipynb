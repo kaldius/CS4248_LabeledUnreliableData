{
 "cells": [
  {
   "cell_type": "markdown",
   "id": "32335fe8",
   "metadata": {},
   "source": [
    "In this file we do exploratory data analysis of our corpus to understand it."
   ]
  },
  {
   "cell_type": "code",
   "execution_count": 1,
   "id": "c22d579e",
   "metadata": {},
   "outputs": [],
   "source": [
    "import pandas as pd\n",
    "import numpy as np\n",
    "from textblob import TextBlob"
   ]
  },
  {
   "cell_type": "code",
   "execution_count": 2,
   "id": "8cafcf89",
   "metadata": {},
   "outputs": [],
   "source": [
    "training_data_filename = \"../raw_data/fulltrain.csv\"\n",
    "df = pd.read_csv(training_data_filename, names=[\"label\", \"document\"])\n",
    "y = df[\"label\"]"
   ]
  },
  {
   "cell_type": "code",
   "execution_count": 3,
   "id": "9aa73945",
   "metadata": {},
   "outputs": [
    {
     "data": {
      "text/plain": [
       "label\n",
       "3        17870\n",
       "1        14047\n",
       "4         9995\n",
       "2         6942\n",
       "dtype: int64"
      ]
     },
     "execution_count": 3,
     "metadata": {},
     "output_type": "execute_result"
    }
   ],
   "source": [
    "# Dataset statistics\n",
    "\n",
    "pd.DataFrame(y).value_counts() "
   ]
  },
  {
   "cell_type": "markdown",
   "id": "eee862a2",
   "metadata": {},
   "source": [
    "We have 4 labels:\n",
    "\n",
    "1. Satire\n",
    "2. Hoax\n",
    "3. Propaganda\n",
    "4. Trusted"
   ]
  },
  {
   "cell_type": "code",
   "execution_count": 4,
   "id": "9666cb9b",
   "metadata": {},
   "outputs": [
    {
     "data": {
      "text/html": [
       "<div>\n",
       "<style scoped>\n",
       "    .dataframe tbody tr th:only-of-type {\n",
       "        vertical-align: middle;\n",
       "    }\n",
       "\n",
       "    .dataframe tbody tr th {\n",
       "        vertical-align: top;\n",
       "    }\n",
       "\n",
       "    .dataframe thead th {\n",
       "        text-align: right;\n",
       "    }\n",
       "</style>\n",
       "<table border=\"1\" class=\"dataframe\">\n",
       "  <thead>\n",
       "    <tr style=\"text-align: right;\">\n",
       "      <th></th>\n",
       "      <th>label</th>\n",
       "      <th>document</th>\n",
       "    </tr>\n",
       "  </thead>\n",
       "  <tbody>\n",
       "    <tr>\n",
       "      <th>2137</th>\n",
       "      <td>1</td>\n",
       "      <td>With polls showing him trailing in New York's ...</td>\n",
       "    </tr>\n",
       "    <tr>\n",
       "      <th>6604</th>\n",
       "      <td>1</td>\n",
       "      <td>Eric Weaver, a recently hired line cook at Cac...</td>\n",
       "    </tr>\n",
       "    <tr>\n",
       "      <th>1021</th>\n",
       "      <td>1</td>\n",
       "      <td>Unless immediate measures are taken, the delic...</td>\n",
       "    </tr>\n",
       "    <tr>\n",
       "      <th>14746</th>\n",
       "      <td>2</td>\n",
       "      <td>Obama Just Shamed America In The Worst Way Pos...</td>\n",
       "    </tr>\n",
       "    <tr>\n",
       "      <th>15245</th>\n",
       "      <td>2</td>\n",
       "      <td>BREAKING: Obama Launches Terrifying Plan To Do...</td>\n",
       "    </tr>\n",
       "    <tr>\n",
       "      <th>16697</th>\n",
       "      <td>2</td>\n",
       "      <td>Welfare Mother Expecting Twelfth Child Gets So...</td>\n",
       "    </tr>\n",
       "    <tr>\n",
       "      <th>25816</th>\n",
       "      <td>3</td>\n",
       "      <td>4-yr-old Rosie Will Have a Garden Next Spring ...</td>\n",
       "    </tr>\n",
       "    <tr>\n",
       "      <th>22238</th>\n",
       "      <td>3</td>\n",
       "      <td>Max Igan: Nature of Reality From An Energetic ...</td>\n",
       "    </tr>\n",
       "    <tr>\n",
       "      <th>23509</th>\n",
       "      <td>3</td>\n",
       "      <td>How to Save Yourself If You Choke AloneHeather...</td>\n",
       "    </tr>\n",
       "    <tr>\n",
       "      <th>42484</th>\n",
       "      <td>4</td>\n",
       "      <td>copyright 2009, The Washington Post NEW YORK -...</td>\n",
       "    </tr>\n",
       "    <tr>\n",
       "      <th>46796</th>\n",
       "      <td>4</td>\n",
       "      <td>Turkish private Pegasus Airlines will launch r...</td>\n",
       "    </tr>\n",
       "    <tr>\n",
       "      <th>44460</th>\n",
       "      <td>4</td>\n",
       "      <td>Copyright 2009 San Francisco Chronicle I've ha...</td>\n",
       "    </tr>\n",
       "  </tbody>\n",
       "</table>\n",
       "</div>"
      ],
      "text/plain": [
       "       label                                           document\n",
       "2137       1  With polls showing him trailing in New York's ...\n",
       "6604       1  Eric Weaver, a recently hired line cook at Cac...\n",
       "1021       1  Unless immediate measures are taken, the delic...\n",
       "14746      2  Obama Just Shamed America In The Worst Way Pos...\n",
       "15245      2  BREAKING: Obama Launches Terrifying Plan To Do...\n",
       "16697      2  Welfare Mother Expecting Twelfth Child Gets So...\n",
       "25816      3  4-yr-old Rosie Will Have a Garden Next Spring ...\n",
       "22238      3  Max Igan: Nature of Reality From An Energetic ...\n",
       "23509      3  How to Save Yourself If You Choke AloneHeather...\n",
       "42484      4  copyright 2009, The Washington Post NEW YORK -...\n",
       "46796      4  Turkish private Pegasus Airlines will launch r...\n",
       "44460      4  Copyright 2009 San Francisco Chronicle I've ha..."
      ]
     },
     "execution_count": 4,
     "metadata": {},
     "output_type": "execute_result"
    }
   ],
   "source": [
    "# Samples from each class\n",
    "\n",
    "sample = df.groupby(\"label\").sample(n=3)\n",
    "sample"
   ]
  },
  {
   "cell_type": "code",
   "execution_count": 5,
   "id": "cd849839",
   "metadata": {},
   "outputs": [],
   "source": [
    "stats = df\n",
    "stats['polarity'] = stats.document.apply(lambda x: TextBlob(x).sentiment.polarity)\n",
    "stats['subjectivity'] = stats.document.apply(lambda x: TextBlob(x).sentiment.subjectivity)"
   ]
  },
  {
   "cell_type": "code",
   "execution_count": 12,
   "id": "baffbd15",
   "metadata": {},
   "outputs": [
    {
     "data": {
      "text/html": [
       "<div>\n",
       "<style scoped>\n",
       "    .dataframe tbody tr th:only-of-type {\n",
       "        vertical-align: middle;\n",
       "    }\n",
       "\n",
       "    .dataframe tbody tr th {\n",
       "        vertical-align: top;\n",
       "    }\n",
       "\n",
       "    .dataframe thead th {\n",
       "        text-align: right;\n",
       "    }\n",
       "</style>\n",
       "<table border=\"1\" class=\"dataframe\">\n",
       "  <thead>\n",
       "    <tr style=\"text-align: right;\">\n",
       "      <th></th>\n",
       "      <th>label</th>\n",
       "      <th>Mean document length</th>\n",
       "    </tr>\n",
       "  </thead>\n",
       "  <tbody>\n",
       "    <tr>\n",
       "      <th>0</th>\n",
       "      <td>1</td>\n",
       "      <td>1772.667616</td>\n",
       "    </tr>\n",
       "    <tr>\n",
       "      <th>1</th>\n",
       "      <td>2</td>\n",
       "      <td>1144.799481</td>\n",
       "    </tr>\n",
       "    <tr>\n",
       "      <th>2</th>\n",
       "      <td>3</td>\n",
       "      <td>5535.197090</td>\n",
       "    </tr>\n",
       "    <tr>\n",
       "      <th>3</th>\n",
       "      <td>4</td>\n",
       "      <td>2689.952976</td>\n",
       "    </tr>\n",
       "  </tbody>\n",
       "</table>\n",
       "</div>"
      ],
      "text/plain": [
       "   label  Mean document length\n",
       "0      1           1772.667616\n",
       "1      2           1144.799481\n",
       "2      3           5535.197090\n",
       "3      4           2689.952976"
      ]
     },
     "execution_count": 12,
     "metadata": {},
     "output_type": "execute_result"
    }
   ],
   "source": [
    "stats = df\n",
    "df.groupby('label').document.apply(lambda x: x.str.len().mean()).reset_index(name='Mean document length')"
   ]
  },
  {
   "cell_type": "code",
   "execution_count": 14,
   "id": "b27c2f45",
   "metadata": {},
   "outputs": [
    {
     "data": {
      "text/html": [
       "<div>\n",
       "<style scoped>\n",
       "    .dataframe tbody tr th:only-of-type {\n",
       "        vertical-align: middle;\n",
       "    }\n",
       "\n",
       "    .dataframe tbody tr th {\n",
       "        vertical-align: top;\n",
       "    }\n",
       "\n",
       "    .dataframe thead th {\n",
       "        text-align: right;\n",
       "    }\n",
       "</style>\n",
       "<table border=\"1\" class=\"dataframe\">\n",
       "  <thead>\n",
       "    <tr style=\"text-align: right;\">\n",
       "      <th></th>\n",
       "      <th>label</th>\n",
       "      <th>Mean word length</th>\n",
       "    </tr>\n",
       "  </thead>\n",
       "  <tbody>\n",
       "    <tr>\n",
       "      <th>0</th>\n",
       "      <td>1</td>\n",
       "      <td>4.820000</td>\n",
       "    </tr>\n",
       "    <tr>\n",
       "      <th>1</th>\n",
       "      <td>2</td>\n",
       "      <td>5.070707</td>\n",
       "    </tr>\n",
       "    <tr>\n",
       "      <th>2</th>\n",
       "      <td>3</td>\n",
       "      <td>5.311828</td>\n",
       "    </tr>\n",
       "    <tr>\n",
       "      <th>3</th>\n",
       "      <td>4</td>\n",
       "      <td>5.010000</td>\n",
       "    </tr>\n",
       "  </tbody>\n",
       "</table>\n",
       "</div>"
      ],
      "text/plain": [
       "   label  Mean word length\n",
       "0      1          4.820000\n",
       "1      2          5.070707\n",
       "2      3          5.311828\n",
       "3      4          5.010000"
      ]
     },
     "execution_count": 14,
     "metadata": {},
     "output_type": "execute_result"
    }
   ],
   "source": [
    "df.groupby('label').document.apply(lambda x: np.mean([len(w) for w in str(x).split()])) \\\n",
    "  .reset_index(name='Mean word length')"
   ]
  },
  {
   "cell_type": "markdown",
   "id": "1fe6e5d3",
   "metadata": {},
   "source": [
    "The polarity is a float within the range [-1.0, 1.0] and ranges from negative, neutral, to positive."
   ]
  },
  {
   "cell_type": "code",
   "execution_count": 16,
   "id": "50e50b3a",
   "metadata": {},
   "outputs": [
    {
     "data": {
      "text/html": [
       "<div>\n",
       "<style scoped>\n",
       "    .dataframe tbody tr th:only-of-type {\n",
       "        vertical-align: middle;\n",
       "    }\n",
       "\n",
       "    .dataframe tbody tr th {\n",
       "        vertical-align: top;\n",
       "    }\n",
       "\n",
       "    .dataframe thead th {\n",
       "        text-align: right;\n",
       "    }\n",
       "</style>\n",
       "<table border=\"1\" class=\"dataframe\">\n",
       "  <thead>\n",
       "    <tr style=\"text-align: right;\">\n",
       "      <th></th>\n",
       "      <th>label</th>\n",
       "      <th>Mean polarity</th>\n",
       "    </tr>\n",
       "  </thead>\n",
       "  <tbody>\n",
       "    <tr>\n",
       "      <th>0</th>\n",
       "      <td>1</td>\n",
       "      <td>0.084869</td>\n",
       "    </tr>\n",
       "    <tr>\n",
       "      <th>1</th>\n",
       "      <td>2</td>\n",
       "      <td>0.043747</td>\n",
       "    </tr>\n",
       "    <tr>\n",
       "      <th>2</th>\n",
       "      <td>3</td>\n",
       "      <td>0.064741</td>\n",
       "    </tr>\n",
       "    <tr>\n",
       "      <th>3</th>\n",
       "      <td>4</td>\n",
       "      <td>0.070584</td>\n",
       "    </tr>\n",
       "  </tbody>\n",
       "</table>\n",
       "</div>"
      ],
      "text/plain": [
       "   label  Mean polarity\n",
       "0      1       0.084869\n",
       "1      2       0.043747\n",
       "2      3       0.064741\n",
       "3      4       0.070584"
      ]
     },
     "execution_count": 16,
     "metadata": {},
     "output_type": "execute_result"
    }
   ],
   "source": [
    "stats.groupby('label').polarity.apply(lambda x: x.mean()).reset_index(name='Mean polarity')"
   ]
  },
  {
   "cell_type": "markdown",
   "id": "4a72e017",
   "metadata": {},
   "source": [
    "The subjectivity is a float within the range [0.0, 1.0] where 0.0 is very objective and 1.0 is very subjective."
   ]
  },
  {
   "cell_type": "code",
   "execution_count": 17,
   "id": "f08485aa",
   "metadata": {},
   "outputs": [
    {
     "data": {
      "text/html": [
       "<div>\n",
       "<style scoped>\n",
       "    .dataframe tbody tr th:only-of-type {\n",
       "        vertical-align: middle;\n",
       "    }\n",
       "\n",
       "    .dataframe tbody tr th {\n",
       "        vertical-align: top;\n",
       "    }\n",
       "\n",
       "    .dataframe thead th {\n",
       "        text-align: right;\n",
       "    }\n",
       "</style>\n",
       "<table border=\"1\" class=\"dataframe\">\n",
       "  <thead>\n",
       "    <tr style=\"text-align: right;\">\n",
       "      <th></th>\n",
       "      <th>label</th>\n",
       "      <th>Mean subjectivity</th>\n",
       "    </tr>\n",
       "  </thead>\n",
       "  <tbody>\n",
       "    <tr>\n",
       "      <th>0</th>\n",
       "      <td>1</td>\n",
       "      <td>0.473221</td>\n",
       "    </tr>\n",
       "    <tr>\n",
       "      <th>1</th>\n",
       "      <td>2</td>\n",
       "      <td>0.448432</td>\n",
       "    </tr>\n",
       "    <tr>\n",
       "      <th>2</th>\n",
       "      <td>3</td>\n",
       "      <td>0.399500</td>\n",
       "    </tr>\n",
       "    <tr>\n",
       "      <th>3</th>\n",
       "      <td>4</td>\n",
       "      <td>0.372629</td>\n",
       "    </tr>\n",
       "  </tbody>\n",
       "</table>\n",
       "</div>"
      ],
      "text/plain": [
       "   label  Mean subjectivity\n",
       "0      1           0.473221\n",
       "1      2           0.448432\n",
       "2      3           0.399500\n",
       "3      4           0.372629"
      ]
     },
     "execution_count": 17,
     "metadata": {},
     "output_type": "execute_result"
    }
   ],
   "source": [
    "stats.groupby('label').subjectivity.apply(lambda x: x.mean()).reset_index(name='Mean subjectivity')"
   ]
  },
  {
   "cell_type": "code",
   "execution_count": null,
   "id": "5a6f8e2a",
   "metadata": {},
   "outputs": [],
   "source": []
  }
 ],
 "metadata": {
  "kernelspec": {
   "display_name": "Python 3",
   "language": "python",
   "name": "python3"
  },
  "language_info": {
   "codemirror_mode": {
    "name": "ipython",
    "version": 3
   },
   "file_extension": ".py",
   "mimetype": "text/x-python",
   "name": "python",
   "nbconvert_exporter": "python",
   "pygments_lexer": "ipython3",
   "version": "3.8.6"
  }
 },
 "nbformat": 4,
 "nbformat_minor": 5
}
