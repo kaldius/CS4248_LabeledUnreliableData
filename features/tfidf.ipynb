{
 "cells": [
  {
   "cell_type": "code",
   "execution_count": 1,
   "metadata": {},
   "outputs": [],
   "source": [
    "import numpy as np\n",
    "import pandas as pd\n",
    "from sklearn.feature_extraction.text import TfidfVectorizer"
   ]
  },
  {
   "cell_type": "code",
   "execution_count": 12,
   "metadata": {},
   "outputs": [],
   "source": [
    "training_data_filename = \"../raw_data/fulltrain.csv\"\n",
    "df_train = pd.read_csv(training_data_filename, names=[\"label\", \"document\"])"
   ]
  },
  {
   "cell_type": "code",
   "execution_count": 15,
   "metadata": {},
   "outputs": [],
   "source": [
    "X_train = df_train[\"document\"]\n",
    "y_train = df_train[\"label\"]"
   ]
  },
  {
   "attachments": {},
   "cell_type": "markdown",
   "metadata": {},
   "source": [
    "### TF-IDF\n",
    "Each row is a vector of length = vocab size\n",
    "* ngram_range=(min, max) e.g. (1, 3) would use unigrams, bigrams and trigrams\n",
    "* lowercase=True by default\n",
    "* uses word ngrams by default\n",
    "* stop_words=None by default, but 'english' can be selected (WARNING: 'english' has some unresolved issues)\n",
    "* max_df=<float in range [0.0, 1.0]> ignores words with document frequency higher than max_df (setting to range of (0.7, 1.0) fill automatically filter out stopwords based on document frequency)\n",
    "* min_df is opposite of max_df\n",
    "* max_features builds vectors only considering top max_features ordered by term frequency"
   ]
  },
  {
   "cell_type": "code",
   "execution_count": 32,
   "metadata": {},
   "outputs": [],
   "source": [
    "tfidf_vectorizer = TfidfVectorizer(ngram_range=(1, 1), max_df=0.7, max_features=500)\n",
    "X_train_tfidf = tfidf_vectorizer.fit_transform(X_train)"
   ]
  },
  {
   "cell_type": "code",
   "execution_count": 33,
   "metadata": {},
   "outputs": [
    {
     "data": {
      "text/plain": [
       "(48854, 500)"
      ]
     },
     "execution_count": 33,
     "metadata": {},
     "output_type": "execute_result"
    }
   ],
   "source": [
    "X_train_tfidf.shape"
   ]
  },
  {
   "cell_type": "code",
   "execution_count": 34,
   "metadata": {},
   "outputs": [
    {
     "data": {
      "text/plain": [
       "array(['000', '10', '11', '20', '30', 'able', 'about', 'according',\n",
       "       'across', 'act', 'action', 'actually', 'added', 'administration',\n",
       "       'after', 'again', 'against', 'ago', 'air', 'al', 'all', 'almost',\n",
       "       'along', 'already', 'also', 'always', 'am', 'america', 'american',\n",
       "       'americans', 'among', 'an', 'another', 'anti', 'any', 'anyone',\n",
       "       'anything', 'appeared', 'are', 'area', 'around', 'article',\n",
       "       'articles', 'as', 'asked', 'at', 'attack', 'available', 'away',\n",
       "       'back', 'bank', 'banks', 'based', 'be', 'because', 'become',\n",
       "       'been', 'before', 'behind', 'being', 'believe', 'best', 'better',\n",
       "       'between', 'big', 'bill', 'billion', 'book', 'both', 'business',\n",
       "       'but', 'by', 'call', 'called', 'came', 'campaign', 'can', 'cancer',\n",
       "       'cant', 'care', 'case', 'cause', 'center', 'central', 'change',\n",
       "       'children', 'china', 'citizens', 'city', 'claims', 'clear',\n",
       "       'clinton', 'com', 'come', 'comes', 'coming', 'companies',\n",
       "       'company', 'congress', 'continue', 'control', 'could', 'countries',\n",
       "       'country', 'course', 'court', 'crisis', 'current', 'data', 'day',\n",
       "       'days', 'death', 'debt', 'defense', 'department', 'despite', 'did',\n",
       "       'different', 'do', 'does', 'doesnt', 'doing', 'dollars', 'don',\n",
       "       'done', 'dont', 'down', 'drug', 'during', 'each', 'early',\n",
       "       'economic', 'economy', 'end', 'energy', 'enough', 'entire', 'even',\n",
       "       'ever', 'every', 'everyone', 'everything', 'evidence', 'face',\n",
       "       'fact', 'family', 'far', 'federal', 'feel', 'few', 'financial',\n",
       "       'find', 'first', 'five', 'following', 'food', 'force', 'forces',\n",
       "       'foreign', 'former', 'found', 'four', 'free', 'freedom', 'from',\n",
       "       'full', 'further', 'future', 'game', 'general', 'get', 'getting',\n",
       "       'give', 'given', 'global', 'go', 'going', 'gold', 'good', 'got',\n",
       "       'government', 'governments', 'great', 'group', 'groups', 'gun',\n",
       "       'had', 'hard', 'has', 'have', 'having', 'he', 'head', 'health',\n",
       "       'help', 'her', 'here', 'high', 'him', 'his', 'history', 'home',\n",
       "       'house', 'how', 'however', 'human', 'if', 'im', 'important',\n",
       "       'including', 'industry', 'information', 'instead', 'intelligence',\n",
       "       'interest', 'international', 'into', 'iran', 'isis', 'israel',\n",
       "       'issue', 'issues', 'it', 'its', 'job', 'john', 'just', 'keep',\n",
       "       'kind', 'know', 'known', 'large', 'last', 'later', 'law', 'least',\n",
       "       'left', 'legal', 'less', 'let', 'level', 'life', 'like', 'likely',\n",
       "       'line', 'little', 'live', 'lives', 'living', 'local', 'long',\n",
       "       'look', 'lot', 'made', 'major', 'make', 'makes', 'making', 'man',\n",
       "       'many', 'market', 'matter', 'may', 'me', 'means', 'media',\n",
       "       'medical', 'members', 'men', 'might', 'military', 'million',\n",
       "       'mind', 'monday', 'money', 'month', 'months', 'more', 'most',\n",
       "       'move', 'much', 'must', 'my', 'name', 'nation', 'national',\n",
       "       'nations', 'natural', 'nearly', 'need', 'never', 'new', 'news',\n",
       "       'next', 'night', 'no', 'non', 'not', 'nothing', 'now', 'nuclear',\n",
       "       'number', 'obama', 'off', 'office', 'official', 'officials',\n",
       "       'often', 'oil', 'old', 'once', 'one', 'only', 'open', 'or',\n",
       "       'order', 'other', 'others', 'our', 'out', 'over', 'own', 'part',\n",
       "       'party', 'past', 'pay', 'people', 'percent', 'person', 'personal',\n",
       "       'place', 'plan', 'please', 'point', 'police', 'policy',\n",
       "       'political', 'possible', 'post', 'power', 'president', 'press',\n",
       "       'private', 'problem', 'process', 'program', 'public', 'published',\n",
       "       'put', 'question', 're', 'read', 'real', 'really', 'reason',\n",
       "       'recent', 'recently', 'related', 'report', 'reported', 'reporters',\n",
       "       'reports', 'research', 'right', 'rights', 'run', 'russia', 'said',\n",
       "       'same', 'say', 'saying', 'says', 'school', 'second', 'security',\n",
       "       'see', 'seen', 'self', 'set', 'several', 'she', 'should', 'show',\n",
       "       'simply', 'since', 'small', 'so', 'social', 'society', 'some',\n",
       "       'someone', 'something', 'source', 'sources', 'start', 'state',\n",
       "       'statement', 'states', 'still', 'stop', 'story', 'study', 'such',\n",
       "       'support', 'sure', 'syria', 'syrian', 'system', 'taiwan', 'take',\n",
       "       'taken', 'taking', 'team', 'technology', 'tell', 'than', 'thats',\n",
       "       'their', 'them', 'themselves', 'then', 'there', 'these', 'they',\n",
       "       'thing', 'things', 'think', 'this', 'those', 'though', 'thought',\n",
       "       'three', 'through', 'time', 'times', 'today', 'told', 'too',\n",
       "       'took', 'top', 'trade', 'true', 'trump', 'truth', 'trying',\n",
       "       'tuesday', 'two', 'under', 'united', 'university', 'until', 'up',\n",
       "       'upon', 'us', 'use', 'used', 'using', 'vaccine', 'vaccines',\n",
       "       'very', 'video', 'want', 'war', 'was', 'washington', 'watch',\n",
       "       'water', 'way', 'we', 'weapons', 'week', 'well', 'went', 'were',\n",
       "       'west', 'western', 'what', 'when', 'where', 'whether', 'which',\n",
       "       'while', 'white', 'who', 'whole', 'why', 'will', 'within',\n",
       "       'without', 'women', 'work', 'working', 'world', 'would', 'year',\n",
       "       'years', 'yet', 'york', 'you', 'your'], dtype=object)"
      ]
     },
     "execution_count": 34,
     "metadata": {},
     "output_type": "execute_result"
    }
   ],
   "source": [
    "tfidf_vectorizer.get_feature_names_out()"
   ]
  }
 ],
 "metadata": {
  "kernelspec": {
   "display_name": ".venv",
   "language": "python",
   "name": "python3"
  },
  "language_info": {
   "codemirror_mode": {
    "name": "ipython",
    "version": 3
   },
   "file_extension": ".py",
   "mimetype": "text/x-python",
   "name": "python",
   "nbconvert_exporter": "python",
   "pygments_lexer": "ipython3",
   "version": "3.10.9"
  },
  "orig_nbformat": 4
 },
 "nbformat": 4,
 "nbformat_minor": 2
}
