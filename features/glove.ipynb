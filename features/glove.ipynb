{
 "cells": [
  {
   "cell_type": "code",
   "execution_count": 2,
   "metadata": {},
   "outputs": [],
   "source": [
    "import numpy as np\n",
    "import pandas as pd"
   ]
  },
  {
   "cell_type": "markdown",
   "metadata": {},
   "source": [
    "**NOTE**: the `glove` folder is in the parent directory of the `CS4248_labeledUnreliableData` directory"
   ]
  },
  {
   "cell_type": "code",
   "execution_count": 3,
   "metadata": {},
   "outputs": [],
   "source": [
    "glove_embedding_size = 100\n",
    "embeddings_dict = {}\n",
    "with open(f\"../../glove/glove.6B.{glove_embedding_size}d.txt\", 'r') as f:\n",
    "    for line in f:\n",
    "        values = line.split()\n",
    "        word = values[0]\n",
    "        vector = np.asarray(values[1:], \"float32\")\n",
    "        embeddings_dict[word] = vector"
   ]
  },
  {
   "cell_type": "code",
   "execution_count": 4,
   "metadata": {},
   "outputs": [],
   "source": [
    "training_data_filename = \"../raw_data/fulltrain.csv\"\n",
    "df_train = pd.read_csv(training_data_filename, names=[\"label\", \"document\"])"
   ]
  },
  {
   "cell_type": "code",
   "execution_count": 5,
   "metadata": {},
   "outputs": [],
   "source": [
    "X_train = df_train[\"document\"]\n",
    "y_train = df_train[\"label\"]"
   ]
  },
  {
   "cell_type": "markdown",
   "metadata": {},
   "source": [
    "If 'avg', a sentence vector will be the average of all word vectors.\n",
    "\n",
    "If 'avg', a sentence vector will be the sum of all word vectors."
   ]
  },
  {
   "cell_type": "code",
   "execution_count": 6,
   "metadata": {},
   "outputs": [],
   "source": [
    "def sentence_to_vector(sentence: str, method: str='avg'):\n",
    "    n = 0\n",
    "    output_vector = np.zeros(shape=glove_embedding_size)\n",
    "    if method == 'avg':\n",
    "        for word in sentence.split():\n",
    "            word_embedding = embeddings_dict.get(word, None)\n",
    "            if word_embedding is not None:\n",
    "                # take moving average\n",
    "                n += 1\n",
    "                output_vector *= (n-1)/n\n",
    "                output_vector += word_embedding / n\n",
    "    elif method == 'sum':\n",
    "        for word in sentence.split():\n",
    "            output_vector += embeddings_dict.get(word, np.zeros(shape=glove_embedding_size))\n",
    "    return output_vector"
   ]
  },
  {
   "cell_type": "code",
   "execution_count": 7,
   "metadata": {},
   "outputs": [],
   "source": [
    "X_train = [sentence_to_vector(s) for s in X_train]"
   ]
  },
  {
   "cell_type": "code",
   "execution_count": 14,
   "metadata": {},
   "outputs": [
    {
     "data": {
      "text/plain": [
       "100"
      ]
     },
     "execution_count": 14,
     "metadata": {},
     "output_type": "execute_result"
    }
   ],
   "source": [
    "len(X_train[0])"
   ]
  }
 ],
 "metadata": {
  "kernelspec": {
   "display_name": "Python 3 (ipykernel)",
   "language": "python",
   "name": "python3"
  },
  "language_info": {
   "codemirror_mode": {
    "name": "ipython",
    "version": 3
   },
   "file_extension": ".py",
   "mimetype": "text/x-python",
   "name": "python",
   "nbconvert_exporter": "python",
   "pygments_lexer": "ipython3",
   "version": "3.11.2"
  }
 },
 "nbformat": 4,
 "nbformat_minor": 2
}
